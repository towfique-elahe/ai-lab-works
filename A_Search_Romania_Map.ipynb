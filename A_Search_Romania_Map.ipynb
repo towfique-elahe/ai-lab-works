{
  "cells": [
    {
      "cell_type": "markdown",
      "source": [
        "# Importing Packages"
      ],
      "metadata": {
        "id": "gOEkkQ2s6Qc_"
      }
    },
    {
      "cell_type": "markdown",
      "source": [
        "Priority Queue is an extension of the queue with the following properties.\n",
        "An element with high priority is dequeued before an element with low priority.\n",
        "If two elements have the same priority, they are served according to their order in the queue.\n",
        "The greedy best first algorithm is implemented by the priority queue."
      ],
      "metadata": {
        "id": "5CVrLQH89ltt"
      }
    },
    {
      "cell_type": "code",
      "execution_count": 24,
      "metadata": {
        "id": "XaKLs7whitm6"
      },
      "outputs": [],
      "source": [
        "from queue import PriorityQueue as PQ"
      ]
    },
    {
      "cell_type": "markdown",
      "source": [
        "# Creating Graph & Adding Edges"
      ],
      "metadata": {
        "id": "2yQpewuw6ZjE"
      }
    },
    {
      "cell_type": "code",
      "execution_count": 25,
      "metadata": {
        "id": "ew2NfiPwibyW"
      },
      "outputs": [],
      "source": [
        "G = {'Arad':{'Zerind':75,'Timisoara':118,'Sibiu':140},\n",
        "         'Zerind':{'Oradea':71,'Arad':75},\n",
        "         'Oradea':{'Sibiu',151},\n",
        "         'Sibiu':{'Rimniciu Vilcea':80,'Fagaras':99,'Arad':140},\n",
        "         'Fagaras':{'Sibiu':99,'Bucharest':211},\n",
        "         'Rimniciu Vilcea':{'Pitesti':97,'Craiova':146,'Sibiu':80},\n",
        "         'Timisoara':{'Lugoj':111,'Arad':118},\n",
        "         'Lugoj':{'Mehadia':70},\n",
        "         'Mehadia':{'Lugoj':70,'Dorbeta':75},\n",
        "         'Dobreta':{'Mehadia':75,'Craiova':120},\n",
        "         'Pitesti':{'Craiova':138,'Bucharest':101},\n",
        "         'Craiova':{'Pitesti':138,'Dobreta':120,'Rimniciu Vilcea':146},\n",
        "         'Bucharest':{'Giurgiu':90,'Urziceni':85,'Fagaras':211,'Pitesti':101},\n",
        "         'Giurgiu': {'Bucharest':90},\n",
        "         'Urziceni':{'Vaslui':142,'Hirsova':98,'Bucharest':85},\n",
        "         'Vaslui':{'Lasi':92,'Urziceni':142},\n",
        "         'Lasi':{'Neamt':87,'Vaslui':92},\n",
        "         'Neamt':{'Lasi':87},\n",
        "         'Hirsova':{'Eforie':86,'Urziceni':98},\n",
        "         'Eforie':{'Hirsova':86}\n",
        "}"
      ]
    },
    {
      "cell_type": "markdown",
      "source": [
        "# Heuristic Values"
      ],
      "metadata": {
        "id": "r6HnQ3tvoLpc"
      }
    },
    {
      "cell_type": "code",
      "source": [
        "hr = {'Arad': 366,\n",
        "      'Bucharest': 0,\n",
        "      'Craiova': 160,\n",
        "      'Dobreta': 242,\n",
        "      'Eforie': 161,\n",
        "      'Fagaras': 176,\n",
        "      'Giurgiu': 77,\n",
        "      'Hirsova': 151,\n",
        "      'Lasi': 226,\n",
        "      'Lugoj': 244,\n",
        "      'Mehadia': 241,\n",
        "      'Neamt': 234,\n",
        "      'Oradea': 380,\n",
        "      'Pitesti': 100,\n",
        "      'Rimniciu Vilcea': 193,\n",
        "      'Sibiu': 253,\n",
        "      'Timisoara': 329,\n",
        "      'Urziceni': 80,\n",
        "      'Vaslui':199,\n",
        "      'Zerind': 374\n",
        "}"
      ],
      "metadata": {
        "id": "zWRYjEeEoGS_"
      },
      "execution_count": 26,
      "outputs": []
    },
    {
      "cell_type": "markdown",
      "source": [
        "# A* Seach Function\n"
      ],
      "metadata": {
        "id": "zev7j2QQ-xAO"
      }
    },
    {
      "cell_type": "code",
      "execution_count": 27,
      "metadata": {
        "id": "XTStbuZniyAY"
      },
      "outputs": [],
      "source": [
        "def a_star(source, destination):\n",
        "         pq, visited = PQ(), {}\n",
        "         pq.put((hr[source], 0, source, [source]))\n",
        "\n",
        "         # visited[source] = heuristics[source]\n",
        "         while not pq.empty():\n",
        "             (heuristic, cost, vertex, path) = pq.get()\n",
        "             if vertex == destination:\n",
        "                 return heuristic, cost, path\n",
        "             for next_node in G[vertex].keys():\n",
        "                 current_cost = cost + G[vertex][next_node]\n",
        "                 heuristic = current_cost + hr[next_node]\n",
        "                 #return True if the expression is False.\n",
        "                 if not next_node in visited or visited[\n",
        "                     next_node] >= heuristic:\n",
        "                     visited[next_node] = heuristic\n",
        "                     pq.put((heuristic, current_cost, next_node, path + [next_node]))"
      ]
    },
    {
      "cell_type": "markdown",
      "source": [
        "# User Input"
      ],
      "metadata": {
        "id": "x3eAIyb9ewA9"
      }
    },
    {
      "cell_type": "code",
      "source": [
        "source = input(\"Enter a source node : \")\n",
        "destination = input(\"Enter a destination node : \")"
      ],
      "metadata": {
        "colab": {
          "base_uri": "https://localhost:8080/"
        },
        "id": "fjNVShFkpCz0",
        "outputId": "da00f24d-6dc5-442e-be53-8695495ac0d0"
      },
      "execution_count": 28,
      "outputs": [
        {
          "name": "stdout",
          "output_type": "stream",
          "text": [
            "Enter a source node : Arad\n",
            "Enter a destination node : Bucharest\n"
          ]
        }
      ]
    },
    {
      "cell_type": "code",
      "execution_count": 29,
      "metadata": {
        "id": "Ypmftp6ci6qH"
      },
      "outputs": [],
      "source": [
        "heuristic, cost, optimal_path = a_star(source, destination)"
      ]
    },
    {
      "cell_type": "markdown",
      "source": [
        "# Output"
      ],
      "metadata": {
        "id": "709uOWR1pNKw"
      }
    },
    {
      "cell_type": "code",
      "source": [
        "print(\"Source:\",source)\n",
        "print(\"Destination:\",destination)\n",
        "print(\"\\nTraversal :\")\n",
        "print(' -> '.join(city for city in optimal_path))\n",
        "print(\"\\nTotal cost :\", cost)"
      ],
      "metadata": {
        "colab": {
          "base_uri": "https://localhost:8080/"
        },
        "id": "OfwEloI5pKjY",
        "outputId": "d28dda26-8602-4368-eea8-472f5e8b7e91"
      },
      "execution_count": 31,
      "outputs": [
        {
          "output_type": "stream",
          "name": "stdout",
          "text": [
            "Source: Arad\n",
            "Destination: Bucharest\n",
            "\n",
            "Traversal :\n",
            "Arad -> Sibiu -> Rimniciu Vilcea -> Pitesti -> Bucharest\n",
            "\n",
            "Total cost : 418\n"
          ]
        }
      ]
    }
  ],
  "metadata": {
    "colab": {
      "name": "A* Search - Romania Map.ipynb",
      "provenance": []
    },
    "kernelspec": {
      "display_name": "Python 3",
      "name": "python3"
    },
    "language_info": {
      "name": "python"
    }
  },
  "nbformat": 4,
  "nbformat_minor": 0
}