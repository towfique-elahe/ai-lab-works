{
  "nbformat": 4,
  "nbformat_minor": 0,
  "metadata": {
    "colab": {
      "name": "Greedy Search - Romania Map.ipynb",
      "provenance": [],
      "collapsed_sections": []
    },
    "kernelspec": {
      "name": "python3",
      "display_name": "Python 3"
    },
    "language_info": {
      "name": "python"
    }
  },
  "cells": [
    {
      "cell_type": "markdown",
      "source": [
        "# Importing Packages"
      ],
      "metadata": {
        "id": "gOEkkQ2s6Qc_"
      }
    },
    {
      "cell_type": "markdown",
      "source": [
        "NetworkX is a Python package for the creation, manipulation, and study of the structure, dynamics, and functions of complex networks.\n",
        "\n",
        "Priority Queue is an extension of the queue with the following properties.\n",
        "An element with high priority is dequeued before an element with low priority.\n",
        "If two elements have the same priority, they are served according to their order in the queue.\n",
        "The greedy best first algorithm is implemented by the priority queue."
      ],
      "metadata": {
        "id": "5CVrLQH89ltt"
      }
    },
    {
      "cell_type": "code",
      "execution_count": 95,
      "metadata": {
        "id": "Hsf7o1q62vgG"
      },
      "outputs": [],
      "source": [
        "import networkx as nx\n",
        "from queue import PriorityQueue as pq"
      ]
    },
    {
      "cell_type": "markdown",
      "source": [
        "# Creating Graph & Adding Edges"
      ],
      "metadata": {
        "id": "2yQpewuw6ZjE"
      }
    },
    {
      "cell_type": "code",
      "source": [
        "# creating empty graph\n",
        "G = nx.Graph()\n",
        "\n",
        "# adding edges\n",
        "G.add_edge(\"Lugoj\",\"Mehadia\",weight=70)\n",
        "G.add_edge(\"Oradea\",\"Zerind\",weight=71)\n",
        "G.add_edge(\"Zerind\",\"Arad\",weight=75)\n",
        "G.add_edge(\"Mehadia\",\"Drobeta\",weight=75)\n",
        "G.add_edge(\"Rimnicu Vileea\",\"Sibiu\",weight=80)\n",
        "G.add_edge(\"Bucharest\",\"Urziceni\",weight=85)\n",
        "G.add_edge(\"Hirsova\",\"Eforie\",weight=86)\n",
        "G.add_edge(\"Neamt\",\"Iasi\",weight=87)\n",
        "G.add_edge(\"Bucharest\",\"Giurgiu\",weight=90)\n",
        "G.add_edge(\"Vaslui\",\"Iasi\",weight=92)\n",
        "G.add_edge(\"Rimnicu Vileea\",\"Pitesti\",weight=97)\n",
        "G.add_edge(\"Urziceni\",\"Hirsova\",weight=98)\n",
        "G.add_edge(\"Sibiu\",\"Fagaras\",weight=99)\n",
        "G.add_edge(\"Bucharest\",\"Pitesti\",weight=101)\n",
        "G.add_edge(\"Timisoara\",\"Lugoj\",weight=111)\n",
        "G.add_edge(\"Arad\",\"Timisoara\",weight=118)\n",
        "G.add_edge(\"Drobeta\",\"Craiova\",weight=120)\n",
        "G.add_edge(\"Craiova\",\"Pitesti\",weight=138)\n",
        "G.add_edge(\"Sibiu\",\"Arad\",weight=140)\n",
        "G.add_edge(\"Urziceni\",\"Vaslui\",weight=142)\n",
        "G.add_edge(\"Craiova\",\"Rimnicu Vileea\",weight=146)\n",
        "G.add_edge(\"Sibiu\",\"Oradea\",weight=151)\n",
        "G.add_edge(\"Fagaras\",\"Bucharest\",weight=211)"
      ],
      "metadata": {
        "id": "Q8MYq4o05-UY"
      },
      "execution_count": 96,
      "outputs": []
    },
    {
      "cell_type": "markdown",
      "source": [
        "# Adjacency List of Graph"
      ],
      "metadata": {
        "id": "yz-YXGzD8LAC"
      }
    },
    {
      "cell_type": "markdown",
      "source": [
        "An adjacency list represents a graph as an array of linked lists.\n",
        "\n",
        "Returns adjacency representation of graph as a dictionary of dictionaries.\n",
        "\n",
        "Parameters G:graph A NetworkX graph"
      ],
      "metadata": {
        "id": "wjFzsTk_91Fl"
      }
    },
    {
      "cell_type": "code",
      "source": [
        "ad_list = nx.to_dict_of_dicts(G)"
      ],
      "metadata": {
        "id": "y9AQPx9P-qC1"
      },
      "execution_count": 97,
      "outputs": []
    },
    {
      "cell_type": "markdown",
      "source": [
        "# Heuristic Values"
      ],
      "metadata": {
        "id": "zev7j2QQ-xAO"
      }
    },
    {
      "cell_type": "code",
      "source": [
        "hr = {\n",
        "    \"Arad\" : 366 ,\n",
        "    \"Bucharest\" : 0,\n",
        "    \"Craiova\" : 160,\n",
        "    \"Drobeta\" : 242,\n",
        "    \"Eforie\" : 161,\n",
        "    \"Fagaras\" : 176,\n",
        "    \"Giurgiu\" : 77,\n",
        "    \"Hirsova\" : 151,\n",
        "    \"Iasi\" : 226,\n",
        "    \"Lugoj\" : 244,\n",
        "    \"Mehadia\" : 241,\n",
        "    \"Neamt\" : 234,\n",
        "    \"Oradea\" : 380,\n",
        "    \"Pitesti\" : 100,\n",
        "    \"Rimnicu Vileea\" : 193,\n",
        "    \"Sibiu\" : 253,\n",
        "    \"Timisoara\" : 329,\n",
        "    \"Urziceni\" : 80,\n",
        "    \"Vaslui\" : 199,\n",
        "    \"Zerind\" : 374\n",
        "}"
      ],
      "metadata": {
        "id": "PvnbsXl6-ssM"
      },
      "execution_count": 98,
      "outputs": []
    },
    {
      "cell_type": "markdown",
      "source": [
        "# Greedy Function\n"
      ],
      "metadata": {
        "id": "wh-u7xS-iNiw"
      }
    },
    {
      "cell_type": "markdown",
      "source": [
        "If two elements have the same priority, they are served according to their order in the queue. The greedy best first algorithm is implemented by the priority queue."
      ],
      "metadata": {
        "id": "65A5fTFTBHxK"
      }
    },
    {
      "cell_type": "code",
      "source": [
        "def greedy():\n",
        "  #Initializing the heurestic value of the source\n",
        "  g_cost=hr[source]\n",
        "\n",
        "  #Initializing an empty visited node\n",
        "  visited = []\n",
        "\n",
        "  queue = pq()\n",
        "\n",
        "  #insert into queue\n",
        "  queue.put((0, source))\n",
        "\n",
        "  while queue:\n",
        "    cost, current = queue.get()\n",
        "    print(current, end=\" --> \")\n",
        "    g_cost = g_cost + cost\n",
        "\n",
        "    if current == destination:\n",
        "        break\n",
        "\n",
        "    else:\n",
        "        for neighbour in ad_list[current]:\n",
        "            if neighbour not in visited:\n",
        "                visited.append(neighbour)\n",
        "                queue.put((hr[neighbour], neighbour))\n",
        "  print(\"\\n\\nTotal Cost : \", g_cost)"
      ],
      "metadata": {
        "id": "p5_2uGCMhOQm"
      },
      "execution_count": 99,
      "outputs": []
    },
    {
      "cell_type": "markdown",
      "source": [
        "# User Input"
      ],
      "metadata": {
        "id": "YeTK9BTc_S5g"
      }
    },
    {
      "cell_type": "code",
      "source": [
        "source = input(\"Enter Source Node : \")\n",
        "destination = input(\"Enter Destination Node : \")"
      ],
      "metadata": {
        "id": "FXj1vQll_Rtk",
        "colab": {
          "base_uri": "https://localhost:8080/"
        },
        "outputId": "b7a76530-b00d-40a4-addc-a5c858cd52af"
      },
      "execution_count": 100,
      "outputs": [
        {
          "name": "stdout",
          "output_type": "stream",
          "text": [
            "Enter Source Node : Arad\n",
            "Enter Destination Node : Bucharest\n"
          ]
        }
      ]
    },
    {
      "cell_type": "markdown",
      "source": [
        "# Output"
      ],
      "metadata": {
        "id": "vvU7aY3rndmC"
      }
    },
    {
      "cell_type": "code",
      "source": [
        "print(\"Source:\",source)\n",
        "print(\"Destination:\",destination)\n",
        "print(\"\\nTraversal:\")\n",
        "greedy()"
      ],
      "metadata": {
        "id": "LybUD1Sg8GaF",
        "colab": {
          "base_uri": "https://localhost:8080/"
        },
        "outputId": "b19944bd-b45f-42d1-a9b4-28f31508bbf8"
      },
      "execution_count": 101,
      "outputs": [
        {
          "output_type": "stream",
          "name": "stdout",
          "text": [
            "Source: Arad\n",
            "Destination: Bucharest\n",
            "\n",
            "Traversal:\n",
            "Arad --> Sibiu --> Fagaras --> Bucharest --> \n",
            "\n",
            "Total Cost :  795\n"
          ]
        }
      ]
    }
  ]
}